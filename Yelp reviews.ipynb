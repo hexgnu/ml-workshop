{
 "cells": [
  {
   "cell_type": "code",
   "execution_count": 1,
   "metadata": {},
   "outputs": [],
   "source": [
    "import json\n",
    "import pandas as pd\n",
    "# import textacy\n",
    "# from textacy.io.json import read_json\n",
    "import spacy\n",
    "import random\n",
    "import scipy\n",
    "import numpy as np\n",
    "\n",
    "# Note that GCC doesn't really help...\n",
    "# Try this?\n",
    "# CPPFLAGS=\"-std=c++98\" pip install cld2-cffi\n",
    "\n",
    "# This only really gets used to create the dataset. You _dont_ have to install this if you don't want to.\n",
    "\n",
    "# def doc_stream():\n",
    "#     c = 0\n",
    "#     with open('./yelp.json') as jfile:\n",
    "#         for obj in json.load(jfile):\n",
    "#             if c >= 10000:\n",
    "#                 break\n",
    "#             if obj['stars'] != [] and random.randint(0, 10) == 0:\n",
    "#                 c += 1\n",
    "#                 print('.', end='')\n",
    "#                 yield textacy.Doc(obj['review'][0], lang='en', metadata={'stars': obj['stars'], 'restaurant': obj['restaurant']})\n",
    "                \n",
    "# corpus = textacy.Corpus('en', docs=doc_stream())\n",
    "\n",
    "# corpus\n",
    "\n",
    "# vectorizer = textacy.Vectorizer(norm='l2', apply_idf=True, idf_type='smooth', min_df=5, max_df=0.95)\n",
    "# doc_term_matrix = vectorizer.fit_transform((doc.to_terms_list(ngrams=1, named_entities=True, as_strings=True) for doc in corpus))\n",
    "# \n",
    "\n",
    "# scipy.sparse.save_npz('./corpus.npz', doc_term_matrix)\n",
    "# \n",
    "\n",
    "# y = np.array([c.metadata['stars'] for c in corpus])\n",
    "\n",
    "# np.save('./ratings.npy', y)"
   ]
  },
  {
   "cell_type": "code",
   "execution_count": 2,
   "metadata": {},
   "outputs": [],
   "source": [
    "y = np.load('./ratings.npy')\n",
    "doc_term_matrix = scipy.sparse.load_npz('./corpus.npz')"
   ]
  },
  {
   "cell_type": "code",
   "execution_count": 3,
   "metadata": {},
   "outputs": [],
   "source": [
    "from sklearn.model_selection import train_test_split\n",
    "X_train, X_test, y_train, y_test = train_test_split(doc_term_matrix, y, test_size=0.2, random_state=42)"
   ]
  },
  {
   "cell_type": "code",
   "execution_count": 4,
   "metadata": {
    "scrolled": true
   },
   "outputs": [
    {
     "name": "stdout",
     "output_type": "stream",
     "text": [
      "Classifier GaussianNB(priors=None)\n",
      "------------------------------\n",
      "             precision    recall  f1-score   support\n",
      "\n",
      "          1       0.17      0.47      0.25       194\n",
      "          2       0.09      0.22      0.13       156\n",
      "          3       0.14      0.16      0.15       287\n",
      "          4       0.34      0.23      0.27       577\n",
      "          5       0.51      0.24      0.33       786\n",
      "\n",
      "avg / total       0.34      0.25      0.26      2000\n",
      "\n",
      "------------------------------\n",
      "Classifier RandomForestClassifier(bootstrap=True, class_weight=None, criterion='gini',\n",
      "            max_depth=None, max_features='auto', max_leaf_nodes=None,\n",
      "            min_impurity_decrease=0.0, min_impurity_split=None,\n",
      "            min_samples_leaf=1, min_samples_split=2,\n",
      "            min_weight_fraction_leaf=0.0, n_estimators=10, n_jobs=1,\n",
      "            oob_score=False, random_state=42, verbose=0, warm_start=False)\n",
      "------------------------------\n",
      "             precision    recall  f1-score   support\n",
      "\n",
      "          1       0.45      0.36      0.40       194\n",
      "          2       0.34      0.13      0.19       156\n",
      "          3       0.31      0.13      0.18       287\n",
      "          4       0.36      0.38      0.37       577\n",
      "          5       0.52      0.69      0.59       786\n",
      "\n",
      "avg / total       0.42      0.45      0.42      2000\n",
      "\n",
      "------------------------------\n",
      "Classifier SVC(C=1.0, cache_size=200, class_weight=None, coef0=0.0,\n",
      "  decision_function_shape='ovr', degree=3, gamma='auto', kernel='rbf',\n",
      "  max_iter=-1, probability=False, random_state=None, shrinking=True,\n",
      "  tol=0.001, verbose=False)\n",
      "------------------------------\n",
      "             precision    recall  f1-score   support\n",
      "\n",
      "          1       0.00      0.00      0.00       194\n",
      "          2       0.00      0.00      0.00       156\n",
      "          3       0.00      0.00      0.00       287\n",
      "          4       0.00      0.00      0.00       577\n",
      "          5       0.39      1.00      0.56       786\n",
      "\n",
      "avg / total       0.15      0.39      0.22      2000\n",
      "\n",
      "------------------------------\n"
     ]
    },
    {
     "name": "stderr",
     "output_type": "stream",
     "text": [
      "/home/hexgnu/.pyenv/versions/anaconda3-5.1.0/lib/python3.6/site-packages/sklearn/metrics/classification.py:1135: UndefinedMetricWarning: Precision and F-score are ill-defined and being set to 0.0 in labels with no predicted samples.\n",
      "  'precision', 'predicted', average, warn_for)\n"
     ]
    },
    {
     "name": "stdout",
     "output_type": "stream",
     "text": [
      "Classifier SVC(C=1.0, cache_size=200, class_weight=None, coef0=0.0,\n",
      "  decision_function_shape='ovr', degree=3, gamma='auto', kernel='linear',\n",
      "  max_iter=-1, probability=False, random_state=None, shrinking=True,\n",
      "  tol=0.001, verbose=False)\n",
      "------------------------------\n",
      "             precision    recall  f1-score   support\n",
      "\n",
      "          1       0.62      0.46      0.53       194\n",
      "          2       0.36      0.17      0.23       156\n",
      "          3       0.35      0.23      0.28       287\n",
      "          4       0.41      0.44      0.42       577\n",
      "          5       0.59      0.74      0.66       786\n",
      "\n",
      "avg / total       0.49      0.51      0.49      2000\n",
      "\n",
      "------------------------------\n"
     ]
    },
    {
     "name": "stderr",
     "output_type": "stream",
     "text": [
      "/home/hexgnu/.pyenv/versions/anaconda3-5.1.0/lib/python3.6/site-packages/sklearn/linear_model/stochastic_gradient.py:128: FutureWarning: max_iter and tol parameters have been added in <class 'sklearn.linear_model.stochastic_gradient.SGDClassifier'> in 0.19. If both are left unset, they default to max_iter=5 and tol=None. If tol is not None, max_iter defaults to max_iter=1000. From 0.21, default max_iter will be 1000, and default tol will be 1e-3.\n",
      "  \"and default tol will be 1e-3.\" % type(self), FutureWarning)\n"
     ]
    },
    {
     "name": "stdout",
     "output_type": "stream",
     "text": [
      "Classifier SGDClassifier(alpha=0.0001, average=False, class_weight=None, epsilon=0.1,\n",
      "       eta0=0.0, fit_intercept=True, l1_ratio=0.15,\n",
      "       learning_rate='optimal', loss='hinge', max_iter=None, n_iter=None,\n",
      "       n_jobs=1, penalty='l2', power_t=0.5, random_state=None,\n",
      "       shuffle=True, tol=None, verbose=0, warm_start=False)\n",
      "------------------------------\n",
      "             precision    recall  f1-score   support\n",
      "\n",
      "          1       0.58      0.48      0.53       194\n",
      "          2       0.39      0.13      0.20       156\n",
      "          3       0.40      0.12      0.18       287\n",
      "          4       0.42      0.29      0.34       577\n",
      "          5       0.52      0.86      0.64       786\n",
      "\n",
      "avg / total       0.47      0.49      0.45      2000\n",
      "\n",
      "------------------------------\n"
     ]
    }
   ],
   "source": [
    "# Classifications\n",
    "\n",
    "from sklearn.naive_bayes import GaussianNB\n",
    "from sklearn.neighbors import KNeighborsClassifier\n",
    "from sklearn.linear_model import SGDClassifier\n",
    "from sklearn.svm import SVC\n",
    "from sklearn.ensemble import RandomForestClassifier\n",
    "from sklearn.metrics import classification_report, confusion_matrix\n",
    "\n",
    "classifiers = [GaussianNB(),\n",
    "               KNeighborsClassifier(n_neighbors=3), # This is slow as molasses\n",
    "               RandomForestClassifier(random_state=42),\n",
    "               SVC(),\n",
    "               SVC(kernel='linear'),\n",
    "               SGDClassifier()]\n",
    "\n",
    "X_train, X_test, y_train, y_test = train_test_split(doc_term_matrix, y, test_size=0.2, random_state=42)\n",
    "\n",
    "for clf in classifiers:\n",
    "    clf.fit(X_train.toarray(), y_train)\n",
    "    y_pred = clf.predict(X_test.toarray())\n",
    "    print('Classifier {}'.format(clf))\n",
    "    print('-' * 30)\n",
    "    print(classification_report(y_test, y_pred))\n",
    "    print('-' * 30)\n",
    "\n",
    "# Precision is TP / TP + FP: So how many out of the positives were actually right?\n",
    "# Recall is TP / TP + FN: So how many of the relevant elements were selected to begin with?"
   ]
  },
  {
   "cell_type": "code",
   "execution_count": null,
   "metadata": {},
   "outputs": [],
   "source": [
    "# Exercise: What other classifiers could you use?\n",
    "\n",
    "# Are these any better or worse?\n",
    "\n",
    "# Hint any ensemble classifier usually works really well in practice\n",
    "# AdaBoost\n",
    "# RandomForest with tweaks on it? These usually work very well!\n",
    "# GradientBoost\n",
    "\n",
    "# there is also Xgboost and CatBoost for extra points but you'll have to install something else."
   ]
  },
  {
   "cell_type": "code",
   "execution_count": 6,
   "metadata": {},
   "outputs": [
    {
     "name": "stderr",
     "output_type": "stream",
     "text": [
      "/home/hexgnu/.pyenv/versions/anaconda3-5.1.0/lib/python3.6/site-packages/sklearn/linear_model/stochastic_gradient.py:128: FutureWarning: max_iter and tol parameters have been added in <class 'sklearn.linear_model.stochastic_gradient.SGDRegressor'> in 0.19. If both are left unset, they default to max_iter=5 and tol=None. If tol is not None, max_iter defaults to max_iter=1000. From 0.21, default max_iter will be 1000, and default tol will be 1e-3.\n",
      "  \"and default tol will be 1e-3.\" % type(self), FutureWarning)\n"
     ]
    },
    {
     "name": "stdout",
     "output_type": "stream",
     "text": [
      "Regression SGDRegressor(alpha=0.0001, average=False, epsilon=0.1, eta0=0.01,\n",
      "       fit_intercept=True, l1_ratio=0.15, learning_rate='invscaling',\n",
      "       loss='squared_loss', max_iter=None, n_iter=None, penalty='l2',\n",
      "       power_t=0.25, random_state=None, shuffle=True, tol=None, verbose=0,\n",
      "       warm_start=False)\n",
      "------------------------------\n",
      "0.9772048992240506\n",
      "------------------------------\n",
      "Regression Lasso(alpha=1.0, copy_X=True, fit_intercept=True, max_iter=1000,\n",
      "   normalize=False, positive=False, precompute=False, random_state=None,\n",
      "   selection='cyclic', tol=0.0001, warm_start=False)\n",
      "------------------------------\n",
      "1.044075625\n",
      "------------------------------\n",
      "Regression LinearRegression(copy_X=True, fit_intercept=True, n_jobs=1, normalize=False)\n",
      "------------------------------\n",
      "105477975.95579632\n",
      "------------------------------\n",
      "Regression ElasticNet(alpha=1.0, copy_X=True, fit_intercept=True, l1_ratio=0.5,\n",
      "      max_iter=1000, normalize=False, positive=False, precompute=False,\n",
      "      random_state=None, selection='cyclic', tol=0.0001, warm_start=False)\n",
      "------------------------------\n",
      "1.044075625\n",
      "------------------------------\n",
      "Regression Ridge(alpha=1.0, copy_X=True, fit_intercept=True, max_iter=None,\n",
      "   normalize=False, random_state=None, solver='auto', tol=0.001)\n",
      "------------------------------\n",
      "0.7651750194147371\n",
      "------------------------------\n",
      "Regression SVR(C=1.0, cache_size=200, coef0=0.0, degree=3, epsilon=0.1, gamma='auto',\n",
      "  kernel='linear', max_iter=-1, shrinking=True, tol=0.001, verbose=False)\n",
      "------------------------------\n",
      "0.776115453764693\n",
      "------------------------------\n",
      "Regression SVR(C=1.0, cache_size=200, coef0=0.0, degree=3, epsilon=0.1, gamma='auto',\n",
      "  kernel='rbf', max_iter=-1, shrinking=True, tol=0.001, verbose=False)\n",
      "------------------------------\n",
      "1.0012012859610264\n",
      "------------------------------\n"
     ]
    }
   ],
   "source": [
    "from sklearn.linear_model import SGDRegressor, Lasso, LinearRegression, ElasticNet, Ridge, LassoCV, RidgeCV\n",
    "from sklearn.svm import SVR\n",
    "from sklearn.metrics import mean_absolute_error\n",
    "regressors = [SGDRegressor(), \n",
    "              Lasso(), \n",
    "              LinearRegression(), \n",
    "              ElasticNet(),\n",
    "              Ridge(),\n",
    "              SVR(kernel='linear'),\n",
    "              SVR(kernel='rbf')]\n",
    "\n",
    "def print_results(reg, y_test, y_pred):\n",
    "    print('Regression {}'.format(reg))\n",
    "    print('-' * 30)\n",
    "    print(mean_absolute_error(y_test, y_pred))\n",
    "    print('-' * 30)\n",
    "\n",
    "for reg in regressors:\n",
    "    reg.fit(X_train.toarray(), y_train)\n",
    "    y_pred = reg.predict(X_test.toarray())\n",
    "    print_results(reg, y_test, y_pred)"
   ]
  },
  {
   "cell_type": "code",
   "execution_count": null,
   "metadata": {},
   "outputs": [],
   "source": [
    "# Exercise what other regressors could you use?\n",
    "\n",
    "# Hint the ensemble regressors again tend to work well in practice\n",
    "# We tried all the big ones tbh\n",
    "\n",
    "# http://scikit-learn.org/stable/modules/classes.html#module-sklearn.ensemble\n",
    "\n",
    "# AdaBoostRegressor\n",
    "# BaggingRegressor\n",
    "# GradientBoostingRegressor\n",
    "\n",
    "# There is also Xgboost and CatBoost for extra points"
   ]
  },
  {
   "cell_type": "code",
   "execution_count": 7,
   "metadata": {},
   "outputs": [
    {
     "name": "stderr",
     "output_type": "stream",
     "text": [
      "/home/hexgnu/.pyenv/versions/anaconda3-5.1.0/lib/python3.6/site-packages/scipy/linalg/basic.py:40: RuntimeWarning: scipy.linalg.solve\n",
      "Ill-conditioned matrix detected. Result is not guaranteed to be accurate.\n",
      "Reciprocal condition number/precision: 1.2644476720300936e-18 / 1.1102230246251565e-16\n",
      "  RuntimeWarning)\n"
     ]
    },
    {
     "name": "stdout",
     "output_type": "stream",
     "text": [
      "Best Alpha: [1.640819364318025] MAE: 0.7619208958237843\n"
     ]
    },
    {
     "data": {
      "image/png": "[encoded data removed]",
      "text/plain": [
       "<matplotlib.figure.Figure at 0x7f72e49b5240>"
      ]
     },
     "metadata": {},
     "output_type": "display_data"
    }
   ],
   "source": [
    "import dlib\n",
    "\n",
    "xes = []\n",
    "yes = []\n",
    "\n",
    "def ridge_regressor(alpha):\n",
    "    reg = Ridge(alpha=alpha)\n",
    "    reg.fit(X_train.toarray(), y_train)\n",
    "    y_pred = reg.predict(X_test.toarray())\n",
    "    yes.append(mean_absolute_error(y_test, y_pred))\n",
    "    xes.append(alpha)\n",
    "    return mean_absolute_error(y_test, y_pred)\n",
    "\n",
    "x, y = dlib.find_min_global(ridge_regressor, [1e-15], [20], 80)\n",
    "\n",
    "import matplotlib.pyplot as plt\n",
    "\n",
    "print(\"Best Alpha: {} MAE: {}\".format(x, y))\n",
    "\n",
    "pd.DataFrame({'x': xes, 'y': yes}).plot.scatter(x='x', y='y')\n",
    "plt.show()"
   ]
  },
  {
   "cell_type": "code",
   "execution_count": 8,
   "metadata": {},
   "outputs": [
    {
     "name": "stdout",
     "output_type": "stream",
     "text": [
      "Best C: [0.33092015837141103] MAE: 0.771019835531833\n"
     ]
    },
    {
     "data": {
      "image/png": "[encoded data removed]",
      "text/plain": [
       "<matplotlib.figure.Figure at 0x7f729398a128>"
      ]
     },
     "metadata": {},
     "output_type": "display_data"
    }
   ],
   "source": [
    "import dlib\n",
    "from sklearn.svm import LinearSVR\n",
    "import matplotlib.pyplot as plt\n",
    "\n",
    "# This is \"bleeding\" edge stuff here \n",
    "# http://blog.dlib.net/2017/12/a-global-optimization-algorithm-worth.html\n",
    "\n",
    "xes = []\n",
    "yes = []\n",
    "\n",
    "def svr_regressor(c):\n",
    "    reg = LinearSVR(C=c)\n",
    "    reg.fit(X_train.toarray(), y_train)\n",
    "    y_pred = reg.predict(X_test.toarray())\n",
    "    yes.append(mean_absolute_error(y_test, y_pred))\n",
    "    xes.append(c)\n",
    "    return mean_absolute_error(y_test, y_pred)\n",
    "\n",
    "x, y = dlib.find_min_global(svr_regressor, [1e-15], [200], 80)\n",
    "\n",
    "print(\"Best C: {} MAE: {}\".format(x, y))\n",
    "\n",
    "pd.DataFrame({'x': xes, 'y': yes}).plot.scatter(x='x', y='y')\n",
    "plt.show()"
   ]
  },
  {
   "cell_type": "code",
   "execution_count": 12,
   "metadata": {
    "scrolled": true
   },
   "outputs": [
    {
     "name": "stderr",
     "output_type": "stream",
     "text": [
      "/home/hexgnu/.pyenv/versions/anaconda3-5.1.0/lib/python3.6/site-packages/autosklearn/evaluation/train_evaluator.py:197: RuntimeWarning: Mean of empty slice\n",
      "  Y_train_pred = np.nanmean(Y_train_pred_full, axis=0)\n"
     ]
    },
    {
     "name": "stdout",
     "output_type": "stream",
     "text": [
      "[WARNING] [2018-08-01 07:44:47,460:EnsembleBuilder(1):viet_ratings] No models better than random - using Dummy Classifier!\n",
      "[WARNING] [2018-08-01 07:44:47,470:EnsembleBuilder(1):viet_ratings] No models better than random - using Dummy Classifier!\n",
      "[WARNING] [2018-08-01 07:44:47,709:AutoMLSMBO(1)::viet_ratings] Could not find meta-data directory /home/hexgnu/.pyenv/versions/anaconda3-5.1.0/lib/python3.6/site-packages/autosklearn/metalearning/files/r2_regression_dense\n",
      "[WARNING] [2018-08-01 07:44:49,476:EnsembleBuilder(1):viet_ratings] No models better than random - using Dummy Classifier!\n",
      "[WARNING] [2018-08-01 07:44:51,480:EnsembleBuilder(1):viet_ratings] No models better than random - using Dummy Classifier!\n",
      "[WARNING] [2018-08-01 07:44:53,483:EnsembleBuilder(1):viet_ratings] No models better than random - using Dummy Classifier!\n",
      "[WARNING] [2018-08-01 07:44:55,487:EnsembleBuilder(1):viet_ratings] No models better than random - using Dummy Classifier!\n",
      "[WARNING] [2018-08-01 07:44:57,494:EnsembleBuilder(1):viet_ratings] No models better than random - using Dummy Classifier!\n",
      "[WARNING] [2018-08-01 07:44:59,510:EnsembleBuilder(1):viet_ratings] No models better than random - using Dummy Classifier!\n",
      "[WARNING] [2018-08-01 07:45:01,516:EnsembleBuilder(1):viet_ratings] No models better than random - using Dummy Classifier!\n",
      "[WARNING] [2018-08-01 07:45:03,520:EnsembleBuilder(1):viet_ratings] No models better than random - using Dummy Classifier!\n",
      "[WARNING] [2018-08-01 07:45:05,525:EnsembleBuilder(1):viet_ratings] No models better than random - using Dummy Classifier!\n",
      "[WARNING] [2018-08-01 07:45:07,531:EnsembleBuilder(1):viet_ratings] No models better than random - using Dummy Classifier!\n",
      "[WARNING] [2018-08-01 07:45:09,542:EnsembleBuilder(1):viet_ratings] No models better than random - using Dummy Classifier!\n",
      "[WARNING] [2018-08-01 07:45:11,546:EnsembleBuilder(1):viet_ratings] No models better than random - using Dummy Classifier!\n",
      "[WARNING] [2018-08-01 07:45:13,553:EnsembleBuilder(1):viet_ratings] No models better than random - using Dummy Classifier!\n",
      "[WARNING] [2018-08-01 07:45:15,559:EnsembleBuilder(1):viet_ratings] No models better than random - using Dummy Classifier!\n",
      "[WARNING] [2018-08-01 07:45:17,563:EnsembleBuilder(1):viet_ratings] No models better than random - using Dummy Classifier!\n",
      "[WARNING] [2018-08-01 07:45:19,571:EnsembleBuilder(1):viet_ratings] No models better than random - using Dummy Classifier!\n",
      "[WARNING] [2018-08-01 07:45:21,578:EnsembleBuilder(1):viet_ratings] No models better than random - using Dummy Classifier!\n",
      "[WARNING] [2018-08-01 07:45:23,587:EnsembleBuilder(1):viet_ratings] No models better than random - using Dummy Classifier!\n",
      "[WARNING] [2018-08-01 07:45:25,606:EnsembleBuilder(1):viet_ratings] No models better than random - using Dummy Classifier!\n",
      "[WARNING] [2018-08-01 07:45:27,613:EnsembleBuilder(1):viet_ratings] No models better than random - using Dummy Classifier!\n",
      "[WARNING] [2018-08-01 07:45:29,633:EnsembleBuilder(1):viet_ratings] No models better than random - using Dummy Classifier!\n",
      "[WARNING] [2018-08-01 07:45:31,656:EnsembleBuilder(1):viet_ratings] No models better than random - using Dummy Classifier!\n",
      "[WARNING] [2018-08-01 07:45:33,674:EnsembleBuilder(1):viet_ratings] No models better than random - using Dummy Classifier!\n",
      "[WARNING] [2018-08-01 07:45:35,689:EnsembleBuilder(1):viet_ratings] No models better than random - using Dummy Classifier!\n",
      "[WARNING] [2018-08-01 07:45:37,704:EnsembleBuilder(1):viet_ratings] No models better than random - using Dummy Classifier!\n",
      "[WARNING] [2018-08-01 07:45:39,728:EnsembleBuilder(1):viet_ratings] No models better than random - using Dummy Classifier!\n",
      "[WARNING] [2018-08-01 07:45:41,735:EnsembleBuilder(1):viet_ratings] No models better than random - using Dummy Classifier!\n",
      "[WARNING] [2018-08-01 07:45:43,748:EnsembleBuilder(1):viet_ratings] No models better than random - using Dummy Classifier!\n",
      "[WARNING] [2018-08-01 07:45:45,761:EnsembleBuilder(1):viet_ratings] No models better than random - using Dummy Classifier!\n",
      "[WARNING] [2018-08-01 07:45:47,771:EnsembleBuilder(1):viet_ratings] No models better than random - using Dummy Classifier!\n",
      "[WARNING] [2018-08-01 07:45:49,790:EnsembleBuilder(1):viet_ratings] No models better than random - using Dummy Classifier!\n",
      "[WARNING] [2018-08-01 07:45:51,797:EnsembleBuilder(1):viet_ratings] No models better than random - using Dummy Classifier!\n",
      "[WARNING] [2018-08-01 07:45:53,802:EnsembleBuilder(1):viet_ratings] No models better than random - using Dummy Classifier!\n",
      "[WARNING] [2018-08-01 07:45:55,807:EnsembleBuilder(1):viet_ratings] No models better than random - using Dummy Classifier!\n",
      "[WARNING] [2018-08-01 07:45:57,819:EnsembleBuilder(1):viet_ratings] No models better than random - using Dummy Classifier!\n",
      "[WARNING] [2018-08-01 07:45:59,828:EnsembleBuilder(1):viet_ratings] No models better than random - using Dummy Classifier!\n",
      "[WARNING] [2018-08-01 07:46:01,855:EnsembleBuilder(1):viet_ratings] No models better than random - using Dummy Classifier!\n",
      "[WARNING] [2018-08-01 07:46:03,875:EnsembleBuilder(1):viet_ratings] No models better than random - using Dummy Classifier!\n",
      "[WARNING] [2018-08-01 07:46:05,883:EnsembleBuilder(1):viet_ratings] No models better than random - using Dummy Classifier!\n",
      "[WARNING] [2018-08-01 07:46:07,899:EnsembleBuilder(1):viet_ratings] No models better than random - using Dummy Classifier!\n",
      "[WARNING] [2018-08-01 07:46:09,911:EnsembleBuilder(1):viet_ratings] No models better than random - using Dummy Classifier!\n",
      "[WARNING] [2018-08-01 07:46:11,919:EnsembleBuilder(1):viet_ratings] No models better than random - using Dummy Classifier!\n",
      "[WARNING] [2018-08-01 07:46:13,943:EnsembleBuilder(1):viet_ratings] No models better than random - using Dummy Classifier!\n",
      "[WARNING] [2018-08-01 07:46:15,951:EnsembleBuilder(1):viet_ratings] No models better than random - using Dummy Classifier!\n",
      "[WARNING] [2018-08-01 07:46:17,981:EnsembleBuilder(1):viet_ratings] No models better than random - using Dummy Classifier!\n",
      "[WARNING] [2018-08-01 07:46:19,999:EnsembleBuilder(1):viet_ratings] No models better than random - using Dummy Classifier!\n",
      "[WARNING] [2018-08-01 07:46:22,022:EnsembleBuilder(1):viet_ratings] No models better than random - using Dummy Classifier!\n",
      "[WARNING] [2018-08-01 07:46:24,026:EnsembleBuilder(1):viet_ratings] No models better than random - using Dummy Classifier!\n",
      "[WARNING] [2018-08-01 07:46:26,030:EnsembleBuilder(1):viet_ratings] No models better than random - using Dummy Classifier!\n"
     ]
    },
    {
     "name": "stderr",
     "output_type": "stream",
     "text": [
      "/home/hexgnu/.pyenv/versions/anaconda3-5.1.0/lib/python3.6/site-packages/autosklearn/evaluation/train_evaluator.py:197: RuntimeWarning: Mean of empty slice\n",
      "  Y_train_pred = np.nanmean(Y_train_pred_full, axis=0)\n"
     ]
    },
    {
     "name": "stdout",
     "output_type": "stream",
     "text": [
      "[(1.000000, SimpleRegressionPipeline({'categorical_encoding:__choice__': 'one_hot_encoding', 'imputation:strategy': 'median', 'preprocessor:__choice__': 'extra_trees_preproc_for_regression', 'regressor:__choice__': 'ridge_regression', 'rescaling:__choice__': 'none', 'categorical_encoding:one_hot_encoding:use_minimum_fraction': 'True', 'preprocessor:extra_trees_preproc_for_regression:bootstrap': 'False', 'preprocessor:extra_trees_preproc_for_regression:criterion': 'friedman_mse', 'preprocessor:extra_trees_preproc_for_regression:max_depth': 'None', 'preprocessor:extra_trees_preproc_for_regression:max_features': 0.4913357283128178, 'preprocessor:extra_trees_preproc_for_regression:max_leaf_nodes': 'None', 'preprocessor:extra_trees_preproc_for_regression:min_samples_leaf': 17, 'preprocessor:extra_trees_preproc_for_regression:min_samples_split': 13, 'preprocessor:extra_trees_preproc_for_regression:min_weight_fraction_leaf': 0.0, 'preprocessor:extra_trees_preproc_for_regression:n_estimators': 100, 'regressor:ridge_regression:alpha': 1.0651486396143917, 'regressor:ridge_regression:fit_intercept': 'True', 'regressor:ridge_regression:tol': 0.00442996035466757, 'categorical_encoding:one_hot_encoding:minimum_fraction': 0.02757515384354482},\n",
      "dataset_properties={\n",
      "  'task': 4,\n",
      "  'sparse': False,\n",
      "  'multilabel': False,\n",
      "  'multiclass': False,\n",
      "  'target_type': 'regression',\n",
      "  'signed': False})),\n",
      "]\n",
      "Mean absolute error: 0.9896880868673325\n"
     ]
    }
   ],
   "source": [
    "import autosklearn\n",
    "import autosklearn.regression\n",
    "import sklearn\n",
    "\n",
    "automl = autosklearn.regression.AutoSklearnRegressor(\n",
    "    time_left_for_this_task=120,\n",
    "    per_run_time_limit=30,\n",
    "    tmp_folder='/tmp/autosklearn_regression_example_tmp',\n",
    "    output_folder='/tmp/autosklearn_regression_example_out',\n",
    "    ml_memory_limit=5 * 1024\n",
    ")\n",
    "\n",
    "model = automl.fit(X_train.toarray(), y_train, dataset_name='viet_ratings', feat_type=['numerical'] * X_test.shape[1])\n",
    "\n",
    "print(automl.show_models())\n",
    "y_pred = automl.predict(X_test.toarray())\n",
    "print(\"Mean absolute error:\", sklearn.metrics.mean_absolute_error(y_test, y_pred))"
   ]
  },
  {
   "cell_type": "code",
   "execution_count": 29,
   "metadata": {},
   "outputs": [
    {
     "data": {
      "text/plain": [
       "RidgeRegression(alpha=1.0651486396143917, fit_intercept=True,\n",
       "        random_state=<mtrand.RandomState object at 0x7f01cc1961b0>,\n",
       "        tol=0.00442996035466757)"
      ]
     },
     "execution_count": 29,
     "metadata": {},
     "output_type": "execute_result"
    }
   ],
   "source": [
    "mod = automl.get_models_with_weights()[0][1]\n",
    "\n",
    "mod._final_estimator.choice"
   ]
  },
  {
   "cell_type": "code",
   "execution_count": null,
   "metadata": {},
   "outputs": [],
   "source": []
  }
 ],
 "metadata": {
  "kernelspec": {
   "display_name": "Python 3",
   "language": "python",
   "name": "python3"
  },
  "language_info": {
   "codemirror_mode": {
    "name": "ipython",
    "version": 3
   },
   "file_extension": ".py",
   "mimetype": "text/x-python",
   "name": "python",
   "nbconvert_exporter": "python",
   "pygments_lexer": "ipython3",
   "version": "3.6.4"
  },
  "toc": {
   "base_numbering": 1,
   "nav_menu": {},
   "number_sections": false,
   "sideBar": false,
   "skip_h1_title": false,
   "title_cell": "Table of Contents",
   "title_sidebar": "Contents",
   "toc_cell": false,
   "toc_position": {},
   "toc_section_display": false,
   "toc_window_display": false
  }
 },
 "nbformat": 4,
 "nbformat_minor": 2
}
